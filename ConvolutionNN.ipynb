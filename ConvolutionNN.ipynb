{
 "cells": [
  {
   "cell_type": "code",
   "execution_count": 5,
   "metadata": {},
   "outputs": [],
   "source": [
    "#data preprocessing\n",
    "import tensorflow as tf\n",
    "from keras.preprocessing.image import ImageDataGenerator\n",
    "import numpy as np\n",
    "from tensorflow.keras.preprocessing import image\n",
    "import PIL"
   ]
  },
  {
   "cell_type": "code",
   "execution_count": 6,
   "metadata": {},
   "outputs": [
    {
     "data": {
      "text/plain": [
       "'1.10.0'"
      ]
     },
     "execution_count": 6,
     "metadata": {},
     "output_type": "execute_result"
    }
   ],
   "source": [
    "tf.__version__"
   ]
  },
  {
   "cell_type": "code",
   "execution_count": 7,
   "metadata": {},
   "outputs": [
    {
     "name": "stdout",
     "output_type": "stream",
     "text": [
      "Found 616 images belonging to 2 classes.\n",
      "Found 198 images belonging to 2 classes.\n"
     ]
    }
   ],
   "source": [
    "train_datagen = ImageDataGenerator(rescale =1./255,\n",
    "                                    shear_range =0.2,\n",
    "                                    zoom_range=0.2,\n",
    "                                    horizontal_flip=True)\n",
    "training_set = train_datagen.flow_from_directory('train',target_size = (64,64),batch_size=32,class_mode ='binary')\n",
    "\n",
    "\n",
    "test_datagen = ImageDataGenerator(rescale=1./255)\n",
    "testing_set = test_datagen.flow_from_directory('test',target_size=(64,64),batch_size=32,class_mode='binary')\n"
   ]
  },
  {
   "cell_type": "code",
   "execution_count": 8,
   "metadata": {},
   "outputs": [],
   "source": [
    "#creating a cnn\n",
    "cnn = tf.keras.models.Sequential()\n",
    "# Adding first convolution layer\n",
    "cnn.add(tf.keras.layers.Conv2D(filters = 32,kernel_size = 3,activation='relu',input_shape=[64,64,3]))\n",
    "#Adding first maxpool layer\n",
    "cnn.add(tf.keras.layers.MaxPool2D(pool_size = 2,strides=2))\n",
    "\n",
    "#Adding second set of convolution and maxpool layers\n",
    "cnn.add(tf.keras.layers.Conv2D(filters=32,kernel_size=3,activation='relu'))\n",
    "cnn.add(tf.keras.layers.MaxPool2D(pool_size=2,strides=2))\n",
    "#Adding flattening layer\n",
    "cnn.add(tf.keras.layers.Flatten())\n",
    "#Adding fullyconnected layer\n",
    "cnn.add(tf.keras.layers.Dense(units=128,activation='relu'))\n",
    "#Adding output layer which classifies\n",
    "cnn.add(tf.keras.layers.Dense(units=1,activation='sigmoid'))"
   ]
  },
  {
   "cell_type": "code",
   "execution_count": 9,
   "metadata": {},
   "outputs": [
    {
     "name": "stdout",
     "output_type": "stream",
     "text": [
      "Epoch 1/25\n",
      "10/10 [==============================] - 39s 4s/step - loss: 0.8020 - acc: 0.5812 - val_loss: 0.6220 - val_acc: 0.8299\n",
      "Epoch 2/25\n",
      "10/10 [==============================] - 15s 2s/step - loss: 0.6084 - acc: 0.6417 - val_loss: 0.5930 - val_acc: 0.6335\n",
      "Epoch 3/25\n",
      "10/10 [==============================] - 20s 2s/step - loss: 0.4257 - acc: 0.8875 - val_loss: 0.5442 - val_acc: 0.7135\n",
      "Epoch 4/25\n",
      "10/10 [==============================] - 14s 1s/step - loss: 0.3469 - acc: 0.8602 - val_loss: 0.3455 - val_acc: 0.8594\n",
      "Epoch 5/25\n",
      "10/10 [==============================] - 15s 1s/step - loss: 0.1967 - acc: 0.9469 - val_loss: 0.2036 - val_acc: 0.9075\n",
      "Epoch 6/25\n",
      "10/10 [==============================] - 14s 1s/step - loss: 0.2412 - acc: 0.8917 - val_loss: 0.4854 - val_acc: 0.7936\n",
      "Epoch 7/25\n",
      "10/10 [==============================] - 14s 1s/step - loss: 0.2193 - acc: 0.9094 - val_loss: 0.3618 - val_acc: 0.8683\n",
      "Epoch 8/25\n",
      "10/10 [==============================] - 13s 1s/step - loss: 0.1762 - acc: 0.9528 - val_loss: 0.2471 - val_acc: 0.9181\n",
      "Epoch 9/25\n",
      "10/10 [==============================] - 14s 1s/step - loss: 0.1381 - acc: 0.9437 - val_loss: 0.1117 - val_acc: 0.9609\n",
      "Epoch 10/25\n",
      "10/10 [==============================] - 15s 2s/step - loss: 0.1415 - acc: 0.9465 - val_loss: 0.1289 - val_acc: 0.9573\n",
      "Epoch 11/25\n",
      "10/10 [==============================] - 19s 2s/step - loss: 0.0766 - acc: 0.9812 - val_loss: 0.1105 - val_acc: 0.9520\n",
      "Epoch 12/25\n",
      "10/10 [==============================] - 15s 2s/step - loss: 0.1475 - acc: 0.9339 - val_loss: 0.1927 - val_acc: 0.9217\n",
      "Epoch 13/25\n",
      "10/10 [==============================] - 21s 2s/step - loss: 0.1054 - acc: 0.9719 - val_loss: 0.1051 - val_acc: 0.9644\n",
      "Epoch 14/25\n",
      "10/10 [==============================] - 14s 1s/step - loss: 0.1081 - acc: 0.9568 - val_loss: 0.0916 - val_acc: 0.9644\n",
      "Epoch 15/25\n",
      "10/10 [==============================] - 17s 2s/step - loss: 0.0911 - acc: 0.9594 - val_loss: 0.1058 - val_acc: 0.9591\n",
      "Epoch 16/25\n",
      "10/10 [==============================] - 22s 2s/step - loss: 0.0574 - acc: 0.9843 - val_loss: 0.0925 - val_acc: 0.9573\n",
      "Epoch 17/25\n",
      "10/10 [==============================] - 52s 5s/step - loss: 0.0505 - acc: 0.9812 - val_loss: 0.0741 - val_acc: 0.9662\n",
      "Epoch 18/25\n",
      "10/10 [==============================] - 27s 3s/step - loss: 0.0738 - acc: 0.9748 - val_loss: 0.0722 - val_acc: 0.9715\n",
      "Epoch 19/25\n",
      "10/10 [==============================] - 14s 1s/step - loss: 0.0512 - acc: 0.9812 - val_loss: 0.0745 - val_acc: 0.9609\n",
      "Epoch 20/25\n",
      "10/10 [==============================] - 28s 3s/step - loss: 0.0534 - acc: 0.9780 - val_loss: 0.1178 - val_acc: 0.9377\n",
      "Epoch 21/25\n",
      "10/10 [==============================] - 35s 4s/step - loss: 0.0538 - acc: 0.9719 - val_loss: 0.1209 - val_acc: 0.9377\n",
      "Epoch 22/25\n",
      "10/10 [==============================] - 16s 2s/step - loss: 0.0592 - acc: 0.9780 - val_loss: 0.0542 - val_acc: 0.9840\n",
      "Epoch 23/25\n",
      "10/10 [==============================] - 15s 1s/step - loss: 0.0549 - acc: 0.9812 - val_loss: 0.0554 - val_acc: 0.9733\n",
      "Epoch 24/25\n",
      "10/10 [==============================] - 13s 1s/step - loss: 0.0443 - acc: 0.9874 - val_loss: 0.0747 - val_acc: 0.9662\n",
      "Epoch 25/25\n",
      "10/10 [==============================] - 16s 2s/step - loss: 0.0407 - acc: 0.9812 - val_loss: 0.0510 - val_acc: 0.9840\n"
     ]
    },
    {
     "data": {
      "text/plain": [
       "<tensorflow.python.keras.callbacks.History at 0xcedffe2b00>"
      ]
     },
     "execution_count": 9,
     "metadata": {},
     "output_type": "execute_result"
    }
   ],
   "source": [
    "#Training the CNN on training set\n",
    "cnn.compile(optimizer='adam',loss='binary_crossentropy',metrics=['accuracy'])\n",
    "#Training the CNN on the training set and evaluating the CNN on the test set\n",
    "cnn.fit_generator(training_set,\n",
    "                         steps_per_epoch = 10,\n",
    "                         epochs = 25,\n",
    "                         validation_data = testing_set,\n",
    "                         validation_steps = 20)"
   ]
  },
  {
   "cell_type": "code",
   "execution_count": 16,
   "metadata": {},
   "outputs": [
    {
     "name": "stdout",
     "output_type": "stream",
     "text": [
      "mask\n"
     ]
    }
   ],
   "source": [
    "test_image = image.load_img('1-with-mask.jpg',target_size=(64,64))\n",
    "test_image = tf.keras.preprocessing.image.img_to_array(test_image)\n",
    "test_image = np.expand_dims(test_image,axis=0)\n",
    "result = cnn.predict(test_image)\n",
    "training_set.class_indices\n",
    "if result[0][0] == 1:\n",
    "    prediction='Has No mask'\n",
    "else:\n",
    "    prediction=' Has Mask'\n",
    "print(prediction)\n"
   ]
  },
  {
   "cell_type": "code",
   "execution_count": null,
   "metadata": {},
   "outputs": [],
   "source": []
  }
 ],
 "metadata": {
  "kernelspec": {
   "display_name": "Python 3",
   "language": "python",
   "name": "python3"
  }
 },
 "nbformat": 4,
 "nbformat_minor": 4
}
